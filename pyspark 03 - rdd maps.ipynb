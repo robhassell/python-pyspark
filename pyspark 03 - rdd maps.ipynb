{
 "cells": [
  {
   "cell_type": "code",
   "execution_count": 1,
   "id": "d3496528",
   "metadata": {},
   "outputs": [],
   "source": [
    "from pyspark import SparkConf, SparkContext\n",
    "\n",
    "conf = SparkConf().setAppName(\"Read File\")\n",
    "sc = SparkContext.getOrCreate(conf=conf)"
   ]
  },
  {
   "cell_type": "markdown",
   "id": "28e7f4d6-4620-489d-acc2-edb4f2fb7e76",
   "metadata": {},
   "source": [
    "## Map"
   ]
  },
  {
   "cell_type": "code",
   "execution_count": 2,
   "id": "6f7a2582",
   "metadata": {},
   "outputs": [],
   "source": [
    "rdd = sc.textFile(\"data/spark 03 - filter quizz.txt\")"
   ]
  },
  {
   "cell_type": "code",
   "execution_count": 3,
   "id": "0dfcbf96",
   "metadata": {},
   "outputs": [],
   "source": [
    "def count_vals(x):\n",
    "    return [len(i) for i in x.split(' ')]\n",
    "\n",
    "rdd2 = rdd.map(count_vals)"
   ]
  },
  {
   "cell_type": "code",
   "execution_count": 4,
   "id": "0d410367",
   "metadata": {},
   "outputs": [
    {
     "data": {
      "text/plain": [
       "[[4, 5, 7, 6], [3, 3, 3, 3, 6], [5, 6, 6, 2, 7, 5], [6, 3, 5, 3]]"
      ]
     },
     "execution_count": 4,
     "metadata": {},
     "output_type": "execute_result"
    }
   ],
   "source": [
    "rdd2.collect()"
   ]
  },
  {
   "cell_type": "markdown",
   "id": "ef73dfff",
   "metadata": {},
   "source": [
    "## FlatMap"
   ]
  },
  {
   "cell_type": "code",
   "execution_count": 5,
   "id": "423f960d",
   "metadata": {},
   "outputs": [
    {
     "data": {
      "text/plain": [
       "[4, 5, 7, 6, 3, 3, 3, 3, 6, 5, 6, 6, 2, 7, 5, 6, 3, 5, 3]"
      ]
     },
     "execution_count": 5,
     "metadata": {},
     "output_type": "execute_result"
    }
   ],
   "source": [
    "rdd3 = rdd.flatMap(count_vals)\n",
    "rdd3.collect()"
   ]
  },
  {
   "cell_type": "markdown",
   "id": "ef1b2634-03bb-4ff1-864a-21626094244c",
   "metadata": {},
   "source": [
    "## Filter"
   ]
  },
  {
   "cell_type": "code",
   "execution_count": 6,
   "id": "ec1b37b8-2f3c-4ced-8e2c-e67dba67891f",
   "metadata": {},
   "outputs": [],
   "source": [
    "rdd_filter = rdd.filter(lambda x: x )"
   ]
  },
  {
   "cell_type": "markdown",
   "id": "7100f65a-46c0-439f-baed-892ebe2c085c",
   "metadata": {},
   "source": [
    "## Quizz Filter"
   ]
  },
  {
   "cell_type": "code",
   "execution_count": 7,
   "id": "cbdaf22b-72d6-4b88-90e7-49e3f8f61a26",
   "metadata": {},
   "outputs": [],
   "source": [
    "rdd = sc.textFile(\"data/spark 03 - filter quizz.txt\")\n",
    "rdd = rdd.flatMap(lambda x: x.split(' '))"
   ]
  },
  {
   "cell_type": "code",
   "execution_count": 8,
   "id": "723322a2-b10d-4904-8b18-84a36c5d1422",
   "metadata": {},
   "outputs": [],
   "source": [
    "def filter_words(text):\n",
    "    for word in text:\n",
    "        if word.startswith(\"a\") or word.startswith(\"c\"):\n",
    "            return False\n",
    "        else:\n",
    "            return True"
   ]
  },
  {
   "cell_type": "code",
   "execution_count": 9,
   "id": "880ece8a-e33e-405c-a95e-1edb52d8f0e5",
   "metadata": {},
   "outputs": [],
   "source": [
    "rdd_filtered = rdd.filter(filter_words)"
   ]
  },
  {
   "cell_type": "code",
   "execution_count": 10,
   "id": "b5f0cab4-17e6-4125-9f0b-af8b849ebcdd",
   "metadata": {},
   "outputs": [
    {
     "data": {
      "text/plain": [
       "['this', 'mango', 'dog', 'mic', 'laptop', 'switch', 'mobile']"
      ]
     },
     "execution_count": 10,
     "metadata": {},
     "output_type": "execute_result"
    }
   ],
   "source": [
    "rdd_filtered.collect()"
   ]
  },
  {
   "cell_type": "markdown",
   "id": "98437d2e-5378-440d-ac59-b049a774fdc3",
   "metadata": {},
   "source": [
    "## RDD Distinct"
   ]
  },
  {
   "cell_type": "code",
   "execution_count": 11,
   "id": "985cdbc4-5f8e-487e-894a-d7f042513cf6",
   "metadata": {},
   "outputs": [],
   "source": [
    "rdd = sc.textFile(\"data/sample_file.txt\")"
   ]
  },
  {
   "cell_type": "code",
   "execution_count": 12,
   "id": "7dfe5f6c-984e-4cfb-bd94-309e6796be2e",
   "metadata": {},
   "outputs": [],
   "source": [
    "rdd2 = rdd.flatMap(lambda x: x.split(' '))"
   ]
  },
  {
   "cell_type": "code",
   "execution_count": 13,
   "id": "5edefd06-e6f7-40bf-844f-fa272288b40d",
   "metadata": {},
   "outputs": [],
   "source": [
    "rdd3 = rdd2.distinct()"
   ]
  },
  {
   "cell_type": "code",
   "execution_count": 14,
   "id": "ebb276e0-ec6c-45f6-bc99-4a42f7f952d3",
   "metadata": {},
   "outputs": [
    {
     "data": {
      "text/plain": [
       "['0',\n",
       " '1',\n",
       " '98',\n",
       " '',\n",
       " '8',\n",
       " '12',\n",
       " '9',\n",
       " '86',\n",
       " '786',\n",
       " '56',\n",
       " '66',\n",
       " '872',\n",
       " '27',\n",
       " '11',\n",
       " '5',\n",
       " '6',\n",
       " '567',\n",
       " '87',\n",
       " '678',\n",
       " '5675']"
      ]
     },
     "execution_count": 14,
     "metadata": {},
     "output_type": "execute_result"
    }
   ],
   "source": [
    "rdd3.collect()"
   ]
  },
  {
   "cell_type": "markdown",
   "id": "261f390c-4347-4562-86b0-f9a4d1bccf04",
   "metadata": {},
   "source": [
    "## RDD Functions - groupByKey"
   ]
  },
  {
   "cell_type": "code",
   "execution_count": 15,
   "id": "db992a01-e364-4ecf-bd40-4a2d8bba474a",
   "metadata": {},
   "outputs": [
    {
     "data": {
      "text/plain": [
       "[(4, ['this']),\n",
       " (6, ['animal', 'laptop', 'switch', 'mobile', 'amanda']),\n",
       " (2, ['am']),\n",
       " (5, ['mango', 'chair', 'cover', 'alarm']),\n",
       " (7, ['company', 'charger']),\n",
       " (3, ['cat', 'dog', 'ant', 'mic', 'any', 'ant'])]"
      ]
     },
     "execution_count": 15,
     "metadata": {},
     "output_type": "execute_result"
    }
   ],
   "source": [
    "rdd = sc.textFile(\"data/spark 03 - filter quizz.txt\")\n",
    "rdd2 = rdd.flatMap(lambda x: x.split(' '))\n",
    "rdd3 = rdd2.map(lambda x: (len(x), x))\n",
    "rdd3.groupByKey().mapValues(list).collect()"
   ]
  },
  {
   "cell_type": "markdown",
   "id": "f8e36f69-ab06-4069-a99e-16cd308f5d12",
   "metadata": {},
   "source": [
    "## RDD Functions - reduceByKey"
   ]
  },
  {
   "cell_type": "code",
   "execution_count": 16,
   "id": "11ff50bd-e262-4d51-ad1c-9f23a4e8e388",
   "metadata": {},
   "outputs": [
    {
     "data": {
      "text/plain": [
       "[(4, 'this'),\n",
       " (6, 'animal laptop switch mobile amanda'),\n",
       " (2, 'am'),\n",
       " (5, 'mango chair cover alarm'),\n",
       " (7, 'company charger'),\n",
       " (3, 'cat dog ant mic any ant')]"
      ]
     },
     "execution_count": 16,
     "metadata": {},
     "output_type": "execute_result"
    }
   ],
   "source": [
    "rdd = sc.textFile(\"data/spark 03 - filter quizz.txt\")\n",
    "rdd2 = rdd.flatMap(lambda x: x.split(' '))\n",
    "rdd3 = rdd2.map(lambda x: (len(x), x))\n",
    "\n",
    "rdd3.reduceByKey(lambda x, y: x + \" \" + y).collect()"
   ]
  },
  {
   "cell_type": "code",
   "execution_count": 17,
   "id": "1059fdb8-2a4f-49ec-9489-e83afadb2296",
   "metadata": {},
   "outputs": [
    {
     "data": {
      "text/plain": [
       "[('0', 1),\n",
       " ('1', 1),\n",
       " ('98', 1),\n",
       " ('', 5),\n",
       " ('8', 3),\n",
       " ('12', 1),\n",
       " ('9', 2),\n",
       " ('86', 1),\n",
       " ('786', 1),\n",
       " ('56', 2),\n",
       " ('66', 1),\n",
       " ('872', 1),\n",
       " ('27', 1),\n",
       " ('11', 1),\n",
       " ('5', 3),\n",
       " ('6', 2),\n",
       " ('567', 1),\n",
       " ('87', 1),\n",
       " ('678', 1),\n",
       " ('5675', 1)]"
      ]
     },
     "execution_count": 17,
     "metadata": {},
     "output_type": "execute_result"
    }
   ],
   "source": [
    "rdd = sc.textFile(\"data/sample_file.txt\")\n",
    "rdd2 = rdd.flatMap(lambda x: x.split(' ')).map(lambda x: (x, 1))\n",
    "\n",
    "rdd2.reduceByKey(lambda x, y: x + y).collect()"
   ]
  },
  {
   "cell_type": "markdown",
   "id": "0353465a-bbb5-4ebd-84f4-e5d3050ea943",
   "metadata": {},
   "source": [
    "## Quizz - Word count"
   ]
  },
  {
   "cell_type": "code",
   "execution_count": 18,
   "id": "0ac534c6-db36-44fc-9d37-83eebcbd1dcf",
   "metadata": {},
   "outputs": [
    {
     "data": {
      "text/plain": [
       "[('this', 1),\n",
       " ('mango', 1),\n",
       " ('cat', 1),\n",
       " ('ant', 2),\n",
       " ('laptop', 1),\n",
       " ('chair', 1),\n",
       " ('switch', 1),\n",
       " ('mobile', 1),\n",
       " ('am', 1),\n",
       " ('company', 1),\n",
       " ('animal', 1),\n",
       " ('dog', 1),\n",
       " ('mic', 1),\n",
       " ('charger', 1),\n",
       " ('cover', 1),\n",
       " ('amanda', 1),\n",
       " ('any', 1),\n",
       " ('alarm', 1)]"
      ]
     },
     "execution_count": 18,
     "metadata": {},
     "output_type": "execute_result"
    }
   ],
   "source": [
    "rdd = sc.textFile(\"data/spark 03 - filter quizz.txt\")\n",
    "rdd = rdd.flatMap(lambda x: x.split(' '))\n",
    "rdd.map(lambda x: (x, 1)).filter(lambda x: len(x) != 0).reduceByKey(lambda x, y: x + y).collect()"
   ]
  },
  {
   "cell_type": "markdown",
   "id": "09e18faf-3595-4bf9-b770-b064b216bbf5",
   "metadata": {},
   "source": [
    "## Actions - count()\n",
    "Cuenta los elementos"
   ]
  },
  {
   "cell_type": "code",
   "execution_count": 19,
   "id": "4133d00a-464a-4ac1-95f5-9e49f27d1ae2",
   "metadata": {},
   "outputs": [
    {
     "data": {
      "text/plain": [
       "19"
      ]
     },
     "execution_count": 19,
     "metadata": {},
     "output_type": "execute_result"
    }
   ],
   "source": [
    "rdd = sc.textFile(\"data/spark 03 - filter quizz.txt\")\n",
    "rdd.flatMap(lambda x: x.split(' ')).count()"
   ]
  },
  {
   "cell_type": "markdown",
   "id": "954c748f-b5b1-4b13-b751-a9772c57e025",
   "metadata": {},
   "source": [
    "## Actions - countByValue()"
   ]
  },
  {
   "cell_type": "code",
   "execution_count": 20,
   "id": "ec31e403-4bef-468a-b1e1-2abf7f0463ed",
   "metadata": {},
   "outputs": [],
   "source": [
    "rdd = rdd.flatMap(lambda x: x.split(' ')).countByValue()"
   ]
  },
  {
   "cell_type": "markdown",
   "id": "733cccee-18d3-405c-8782-1a5e879cb8f9",
   "metadata": {},
   "source": [
    "## saveAsTextFile()"
   ]
  },
  {
   "cell_type": "code",
   "execution_count": 21,
   "id": "edcb0350-7bb1-4d46-9cb6-ef9f3457b953",
   "metadata": {},
   "outputs": [
    {
     "name": "stdout",
     "output_type": "stream",
     "text": [
      "2\n"
     ]
    }
   ],
   "source": [
    "rdd = sc.textFile(\"data/spark 03 - filter quizz.txt\")\n",
    "print(rdd.getNumPartitions())\n",
    "rdd.flatMap(lambda x: x.split(' ')).saveAsTextFile(\"output/saveAsText\")"
   ]
  },
  {
   "cell_type": "markdown",
   "id": "dae5378d-08ef-4a88-b989-fe24274f61a9",
   "metadata": {},
   "source": [
    "## coalesce() and repartition()"
   ]
  },
  {
   "cell_type": "code",
   "execution_count": 22,
   "id": "ee2ec3da-deb9-4825-8878-5570dbe46e46",
   "metadata": {},
   "outputs": [
    {
     "data": {
      "text/plain": [
       "5"
      ]
     },
     "execution_count": 22,
     "metadata": {},
     "output_type": "execute_result"
    }
   ],
   "source": [
    "rdd = sc.textFile(\"data/spark 03 - filter quizz.txt\")\n",
    "rdd = rdd.repartition(5)\n",
    "rdd.getNumPartitions()"
   ]
  },
  {
   "cell_type": "code",
   "execution_count": null,
   "id": "8b9fbd0a-b06f-4efc-8479-d73d0e048ac6",
   "metadata": {},
   "outputs": [],
   "source": []
  }
 ],
 "metadata": {
  "kernelspec": {
   "display_name": "Python 3 (ipykernel)",
   "language": "python",
   "name": "python3"
  },
  "language_info": {
   "codemirror_mode": {
    "name": "ipython",
    "version": 3
   },
   "file_extension": ".py",
   "mimetype": "text/x-python",
   "name": "python",
   "nbconvert_exporter": "python",
   "pygments_lexer": "ipython3",
   "version": "3.8.6"
  }
 },
 "nbformat": 4,
 "nbformat_minor": 5
}
