{
 "cells": [
  {
   "cell_type": "code",
   "execution_count": 1,
   "source": [
    "from pyspark import SparkConf, SparkContext\r\n",
    "\r\n",
    "conf = SparkConf().setAppName(\"Read File\")\r\n",
    "sc = SparkContext.getOrCreate(conf=conf)\r\n"
   ],
   "outputs": [],
   "metadata": {}
  },
  {
   "cell_type": "markdown",
   "source": [
    "## Map"
   ],
   "metadata": {}
  },
  {
   "cell_type": "code",
   "execution_count": 2,
   "source": [
    "rdd = sc.textFile(\"data/spark 03 - filter quizz.txt\")\r\n"
   ],
   "outputs": [],
   "metadata": {}
  },
  {
   "cell_type": "code",
   "execution_count": 3,
   "source": [
    "def count_vals(x):\r\n",
    "    return [len(i) for i in x.split(' ')]\r\n",
    "\r\n",
    "\r\n",
    "rdd2 = rdd.map(count_vals)\r\n"
   ],
   "outputs": [],
   "metadata": {}
  },
  {
   "cell_type": "code",
   "execution_count": 4,
   "source": [
    "rdd2.collect()\r\n"
   ],
   "outputs": [
    {
     "output_type": "execute_result",
     "data": {
      "text/plain": [
       "[[4, 5, 7, 6], [3, 3, 3, 3, 6], [5, 6, 6, 2, 7, 5], [6, 3, 5, 3]]"
      ]
     },
     "metadata": {},
     "execution_count": 4
    }
   ],
   "metadata": {}
  },
  {
   "cell_type": "markdown",
   "source": [
    "## FlatMap"
   ],
   "metadata": {}
  },
  {
   "cell_type": "code",
   "execution_count": 5,
   "source": [
    "rdd3 = rdd.flatMap(count_vals)\r\n",
    "rdd3.collect()\r\n"
   ],
   "outputs": [
    {
     "output_type": "execute_result",
     "data": {
      "text/plain": [
       "[4, 5, 7, 6, 3, 3, 3, 3, 6, 5, 6, 6, 2, 7, 5, 6, 3, 5, 3]"
      ]
     },
     "metadata": {},
     "execution_count": 5
    }
   ],
   "metadata": {}
  },
  {
   "cell_type": "markdown",
   "source": [
    "## Filter"
   ],
   "metadata": {}
  },
  {
   "cell_type": "code",
   "execution_count": 6,
   "source": [
    "rdd_filter = rdd.filter(lambda x: x)\r\n"
   ],
   "outputs": [],
   "metadata": {}
  },
  {
   "cell_type": "markdown",
   "source": [
    "## Quizz Filter"
   ],
   "metadata": {}
  },
  {
   "cell_type": "code",
   "execution_count": 7,
   "source": [
    "rdd = sc.textFile(\"data/spark 03 - filter quizz.txt\")\r\n",
    "rdd = rdd.flatMap(lambda x: x.split(' '))\r\n"
   ],
   "outputs": [],
   "metadata": {}
  },
  {
   "cell_type": "code",
   "execution_count": 8,
   "source": [
    "def filter_words(text):\r\n",
    "    for word in text:\r\n",
    "        if word.startswith(\"a\") or word.startswith(\"c\"):\r\n",
    "            return False\r\n",
    "        else:\r\n",
    "            return True\r\n"
   ],
   "outputs": [],
   "metadata": {}
  },
  {
   "cell_type": "code",
   "execution_count": 9,
   "source": [
    "rdd_filtered = rdd.filter(filter_words)\r\n"
   ],
   "outputs": [],
   "metadata": {}
  },
  {
   "cell_type": "code",
   "execution_count": 10,
   "source": [
    "rdd_filtered.collect()\r\n"
   ],
   "outputs": [
    {
     "output_type": "execute_result",
     "data": {
      "text/plain": [
       "['this', 'mango', 'dog', 'mic', 'laptop', 'switch', 'mobile']"
      ]
     },
     "metadata": {},
     "execution_count": 10
    }
   ],
   "metadata": {}
  },
  {
   "cell_type": "markdown",
   "source": [
    "## RDD Distinct"
   ],
   "metadata": {}
  },
  {
   "cell_type": "code",
   "execution_count": 11,
   "source": [
    "rdd = sc.textFile(\"data/sample_file.txt\")\r\n"
   ],
   "outputs": [],
   "metadata": {}
  },
  {
   "cell_type": "code",
   "execution_count": 12,
   "source": [
    "rdd2 = rdd.flatMap(lambda x: x.split(' '))\r\n"
   ],
   "outputs": [],
   "metadata": {}
  },
  {
   "cell_type": "code",
   "execution_count": 13,
   "source": [
    "rdd3 = rdd2.distinct()\r\n"
   ],
   "outputs": [],
   "metadata": {}
  },
  {
   "cell_type": "code",
   "execution_count": 14,
   "source": [
    "rdd3.collect()\r\n"
   ],
   "outputs": [
    {
     "output_type": "execute_result",
     "data": {
      "text/plain": [
       "['0',\n",
       " '1',\n",
       " '98',\n",
       " '',\n",
       " '8',\n",
       " '12',\n",
       " '9',\n",
       " '86',\n",
       " '786',\n",
       " '56',\n",
       " '66',\n",
       " '872',\n",
       " '27',\n",
       " '11',\n",
       " '5',\n",
       " '6',\n",
       " '567',\n",
       " '87',\n",
       " '678',\n",
       " '5675']"
      ]
     },
     "metadata": {},
     "execution_count": 14
    }
   ],
   "metadata": {}
  },
  {
   "cell_type": "markdown",
   "source": [
    "## RDD Functions - groupByKey"
   ],
   "metadata": {}
  },
  {
   "cell_type": "code",
   "execution_count": 15,
   "source": [
    "rdd = sc.textFile(\"data/spark 03 - filter quizz.txt\")\r\n",
    "rdd2 = rdd.flatMap(lambda x: x.split(' '))\r\n",
    "rdd3 = rdd2.map(lambda x: (len(x), x))\r\n",
    "rdd3.groupByKey().mapValues(list).collect()\r\n"
   ],
   "outputs": [
    {
     "output_type": "execute_result",
     "data": {
      "text/plain": [
       "[(4, ['this']),\n",
       " (6, ['animal', 'laptop', 'switch', 'mobile', 'amanda']),\n",
       " (2, ['am']),\n",
       " (5, ['mango', 'chair', 'cover', 'alarm']),\n",
       " (7, ['company', 'charger']),\n",
       " (3, ['cat', 'dog', 'ant', 'mic', 'any', 'ant'])]"
      ]
     },
     "metadata": {},
     "execution_count": 15
    }
   ],
   "metadata": {}
  },
  {
   "cell_type": "markdown",
   "source": [
    "## RDD Functions - reduceByKey"
   ],
   "metadata": {}
  },
  {
   "cell_type": "code",
   "execution_count": 16,
   "source": [
    "rdd = sc.textFile(\"data/spark 03 - filter quizz.txt\")\r\n",
    "rdd2 = rdd.flatMap(lambda x: x.split(' '))\r\n",
    "rdd3 = rdd2.map(lambda x: (len(x), x))\r\n",
    "\r\n",
    "rdd3.reduceByKey(lambda x, y: x + \" \" + y).collect()\r\n"
   ],
   "outputs": [
    {
     "output_type": "execute_result",
     "data": {
      "text/plain": [
       "[(4, 'this'),\n",
       " (6, 'animal laptop switch mobile amanda'),\n",
       " (2, 'am'),\n",
       " (5, 'mango chair cover alarm'),\n",
       " (7, 'company charger'),\n",
       " (3, 'cat dog ant mic any ant')]"
      ]
     },
     "metadata": {},
     "execution_count": 16
    }
   ],
   "metadata": {}
  },
  {
   "cell_type": "code",
   "execution_count": 17,
   "source": [
    "rdd = sc.textFile(\"data/sample_file.txt\")\r\n",
    "rdd2 = rdd.flatMap(lambda x: x.split(' ')).map(lambda x: (x, 1))\r\n",
    "\r\n",
    "rdd2.reduceByKey(lambda x, y: x + y).collect()\r\n"
   ],
   "outputs": [
    {
     "output_type": "execute_result",
     "data": {
      "text/plain": [
       "[('0', 1),\n",
       " ('1', 1),\n",
       " ('98', 1),\n",
       " ('', 5),\n",
       " ('8', 3),\n",
       " ('12', 1),\n",
       " ('9', 2),\n",
       " ('86', 1),\n",
       " ('786', 1),\n",
       " ('56', 2),\n",
       " ('66', 1),\n",
       " ('872', 1),\n",
       " ('27', 1),\n",
       " ('11', 1),\n",
       " ('5', 3),\n",
       " ('6', 2),\n",
       " ('567', 1),\n",
       " ('87', 1),\n",
       " ('678', 1),\n",
       " ('5675', 1)]"
      ]
     },
     "metadata": {},
     "execution_count": 17
    }
   ],
   "metadata": {}
  },
  {
   "cell_type": "markdown",
   "source": [
    "## Quizz - Word count"
   ],
   "metadata": {}
  },
  {
   "cell_type": "code",
   "execution_count": 18,
   "source": [
    "rdd = sc.textFile(\"data/spark 03 - filter quizz.txt\")\r\n",
    "rdd = rdd.flatMap(lambda x: x.split(' '))\r\n",
    "rdd.map(lambda x: (x, 1)).filter(lambda x: len(x) !=\r\n",
    "                                 0).reduceByKey(lambda x, y: x + y).collect()\r\n"
   ],
   "outputs": [
    {
     "output_type": "execute_result",
     "data": {
      "text/plain": [
       "[('this', 1),\n",
       " ('mango', 1),\n",
       " ('cat', 1),\n",
       " ('ant', 2),\n",
       " ('laptop', 1),\n",
       " ('chair', 1),\n",
       " ('switch', 1),\n",
       " ('mobile', 1),\n",
       " ('am', 1),\n",
       " ('company', 1),\n",
       " ('animal', 1),\n",
       " ('dog', 1),\n",
       " ('mic', 1),\n",
       " ('charger', 1),\n",
       " ('cover', 1),\n",
       " ('amanda', 1),\n",
       " ('any', 1),\n",
       " ('alarm', 1)]"
      ]
     },
     "metadata": {},
     "execution_count": 18
    }
   ],
   "metadata": {}
  },
  {
   "cell_type": "markdown",
   "source": [
    "## Actions - count()\r\n",
    "Cuenta los elementos"
   ],
   "metadata": {}
  },
  {
   "cell_type": "code",
   "execution_count": 19,
   "source": [
    "rdd = sc.textFile(\"data/spark 03 - filter quizz.txt\")\r\n",
    "rdd.flatMap(lambda x: x.split(' ')).count()\r\n"
   ],
   "outputs": [
    {
     "output_type": "execute_result",
     "data": {
      "text/plain": [
       "19"
      ]
     },
     "metadata": {},
     "execution_count": 19
    }
   ],
   "metadata": {}
  },
  {
   "cell_type": "markdown",
   "source": [
    "## Actions - countByValue()"
   ],
   "metadata": {}
  },
  {
   "cell_type": "code",
   "execution_count": 20,
   "source": [
    "rdd = rdd.flatMap(lambda x: x.split(' ')).countByValue()\r\n"
   ],
   "outputs": [],
   "metadata": {}
  },
  {
   "cell_type": "markdown",
   "source": [
    "## saveAsTextFile()"
   ],
   "metadata": {}
  },
  {
   "cell_type": "code",
   "execution_count": 21,
   "source": [
    "rdd = sc.textFile(\"data/spark 03 - filter quizz.txt\")\r\n",
    "print(rdd.getNumPartitions())\r\n",
    "rdd.flatMap(lambda x: x.split(' ')).saveAsTextFile(\"output/saveAsText\")\r\n"
   ],
   "outputs": [
    {
     "output_type": "stream",
     "name": "stdout",
     "text": [
      "2\n"
     ]
    }
   ],
   "metadata": {}
  },
  {
   "cell_type": "markdown",
   "source": [
    "## coalesce() and repartition()"
   ],
   "metadata": {}
  },
  {
   "cell_type": "code",
   "execution_count": 22,
   "source": [
    "rdd = sc.textFile(\"data/spark 03 - filter quizz.txt\")\r\n",
    "rdd = rdd.repartition(5)\r\n",
    "rdd.getNumPartitions()\r\n"
   ],
   "outputs": [
    {
     "output_type": "execute_result",
     "data": {
      "text/plain": [
       "5"
      ]
     },
     "metadata": {},
     "execution_count": 22
    }
   ],
   "metadata": {}
  },
  {
   "cell_type": "code",
   "execution_count": null,
   "source": [],
   "outputs": [],
   "metadata": {}
  }
 ],
 "metadata": {
  "kernelspec": {
   "display_name": "Python 3 (ipykernel)",
   "language": "python",
   "name": "python3"
  },
  "language_info": {
   "codemirror_mode": {
    "name": "ipython",
    "version": 3
   },
   "file_extension": ".py",
   "mimetype": "text/x-python",
   "name": "python",
   "nbconvert_exporter": "python",
   "pygments_lexer": "ipython3",
   "version": "3.8.6"
  }
 },
 "nbformat": 4,
 "nbformat_minor": 5
}