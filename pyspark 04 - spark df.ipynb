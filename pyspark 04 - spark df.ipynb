{
 "cells": [
  {
   "cell_type": "markdown",
   "source": [
    "# Spark DFs"
   ],
   "metadata": {}
  },
  {
   "cell_type": "code",
   "execution_count": 3,
   "source": [
    "from pyspark.sql import SparkSession\r\n",
    "\r\n",
    "spark = SparkSession.builder.appName(\"Spark DataFrame\").getOrCreate()\r\n"
   ],
   "outputs": [],
   "metadata": {}
  },
  {
   "cell_type": "code",
   "execution_count": 4,
   "source": [
    "df = (spark.read\r\n",
    "      .options(inferSchema=True, header=True)\r\n",
    "      .csv(\"data/StudentData.csv\"))\r\n",
    "df.printSchema()\r\n"
   ],
   "outputs": [
    {
     "output_type": "stream",
     "name": "stdout",
     "text": [
      "root\n",
      " |-- age: integer (nullable = true)\n",
      " |-- gender: string (nullable = true)\n",
      " |-- name: string (nullable = true)\n",
      " |-- course: string (nullable = true)\n",
      " |-- roll: integer (nullable = true)\n",
      " |-- marks: integer (nullable = true)\n",
      " |-- email: string (nullable = true)\n",
      "\n"
     ]
    }
   ],
   "metadata": {}
  },
  {
   "cell_type": "markdown",
   "source": [
    "# Providing Schema"
   ],
   "metadata": {}
  },
  {
   "cell_type": "code",
   "execution_count": 26,
   "source": [
    "from pyspark.sql.types import StructType, StructField, StringType, IntegerType, DoubleType\r\n",
    "\r\n",
    "schema = StructType([\r\n",
    "    StructField(\"age\", IntegerType(), True),\r\n",
    "    StructField(\"gender\", StringType(), True),\r\n",
    "    StructField(\"name\", StringType(), True),\r\n",
    "    StructField(\"course\", StringType(), True),\r\n",
    "\r\n",
    "    StructField(\"roll\", StringType(), True),\r\n",
    "    StructField(\"marks\", IntegerType(), True),\r\n",
    "    StructField(\"email\", StringType(), True),\r\n",
    "])\r\n"
   ],
   "outputs": [],
   "metadata": {}
  },
  {
   "cell_type": "code",
   "execution_count": 27,
   "source": [
    "df = spark.read.options(header=True).schema(\r\n",
    "    schema=schema).csv(\"data/StudentData.csv\")\r\n",
    "df.show()\r\n",
    "df.printSchema()\r\n"
   ],
   "outputs": [
    {
     "output_type": "stream",
     "name": "stdout",
     "text": [
      "+---+------+----------------+------+------+-----+--------------------+\n",
      "|age|gender|            name|course|  roll|marks|               email|\n",
      "+---+------+----------------+------+------+-----+--------------------+\n",
      "| 28|Female| Hubert Oliveras|    DB| 02984|   59|Annika Hoffman_Na...|\n",
      "| 29|Female|Toshiko Hillyard| Cloud| 12899|   62|Margene Moores_Ma...|\n",
      "| 28|  Male|  Celeste Lollis|    PF| 21267|   45|Jeannetta Golden_...|\n",
      "| 29|Female|    Elenore Choy|    DB| 32877|   29|Billi Clore_Mitzi...|\n",
      "| 28|  Male|  Sheryll Towler|   DSA| 41487|   41|Claude Panos_Judi...|\n",
      "| 28|  Male|  Margene Moores|   MVC| 52771|   32|Toshiko Hillyard_...|\n",
      "| 28|  Male|     Neda Briski|   OOP| 61973|   69|Alberta Freund_El...|\n",
      "| 28|Female|    Claude Panos| Cloud| 72409|   85|Sheryll Towler_Al...|\n",
      "| 28|  Male|  Celeste Lollis|   MVC| 81492|   64|Nicole Harwood_Cl...|\n",
      "| 29|  Male|  Cordie Harnois|   OOP| 92882|   51|Judie Chipps_Clem...|\n",
      "| 29|Female|       Kena Wild|   DSA|102285|   35|Dustin Feagins_Ma...|\n",
      "| 29|  Male| Ernest Rossbach|    DB|111449|   53|Maybell Duguay_Ab...|\n",
      "| 28|Female|  Latia Vanhoose|    DB|122502|   27|Latia Vanhoose_Mi...|\n",
      "| 29|Female|  Latia Vanhoose|   MVC|132110|   55|Eda Neathery_Nico...|\n",
      "| 29|  Male|     Neda Briski|    PF|141770|   42|Margene Moores_Mi...|\n",
      "| 29|Female|  Latia Vanhoose|    DB|152159|   27|Claude Panos_Sant...|\n",
      "| 29|  Male|  Loris Crossett|   MVC|161771|   36|Mitzi Seldon_Jenn...|\n",
      "| 29|  Male|  Annika Hoffman|   OOP|171660|   22|Taryn Brownlee_Mi...|\n",
      "| 29|  Male|   Santa Kerfien|    PF|182129|   56|Judie Chipps_Tary...|\n",
      "| 28|Female|Mickey Cortright|    DB|192537|   62|Ernest Rossbach_M...|\n",
      "+---+------+----------------+------+------+-----+--------------------+\n",
      "only showing top 20 rows\n",
      "\n",
      "root\n",
      " |-- age: integer (nullable = true)\n",
      " |-- gender: string (nullable = true)\n",
      " |-- name: string (nullable = true)\n",
      " |-- course: string (nullable = true)\n",
      " |-- roll: string (nullable = true)\n",
      " |-- marks: integer (nullable = true)\n",
      " |-- email: string (nullable = true)\n",
      "\n"
     ]
    }
   ],
   "metadata": {}
  },
  {
   "cell_type": "markdown",
   "source": [
    "## RDD to DF"
   ],
   "metadata": {}
  },
  {
   "cell_type": "code",
   "execution_count": 28,
   "source": [
    "from pyspark import SparkConf, SparkContext\r\n",
    "conf = SparkConf()\r\n",
    "sc = SparkContext.getOrCreate(\"RDD to DF\")\r\n",
    "\r\n",
    "rdd = sc.textFile(\"data/StudentData.csv\")\r\n",
    "headers = rdd.first()\r\n",
    "columns = headers.split(\",\")\r\n",
    "\r\n",
    "\r\n",
    "rdd = rdd.filter(lambda x: x != headers).map(lambda x: x.split(','))\r\n",
    "\r\n",
    "df = rdd.toDF(columns)\r\n",
    "df.printSchema()\r\n",
    "\r\n",
    "df = spark.createDataFrame(rdd, schema=schema)\r\n",
    "df.printSchema()\r\n"
   ],
   "outputs": [
    {
     "output_type": "stream",
     "name": "stdout",
     "text": [
      "root\n",
      " |-- age: string (nullable = true)\n",
      " |-- gender: string (nullable = true)\n",
      " |-- name: string (nullable = true)\n",
      " |-- course: string (nullable = true)\n",
      " |-- roll: string (nullable = true)\n",
      " |-- marks: string (nullable = true)\n",
      " |-- email: string (nullable = true)\n",
      "\n",
      "root\n",
      " |-- age: integer (nullable = true)\n",
      " |-- gender: string (nullable = true)\n",
      " |-- name: string (nullable = true)\n",
      " |-- course: string (nullable = true)\n",
      " |-- roll: string (nullable = true)\n",
      " |-- marks: integer (nullable = true)\n",
      " |-- email: string (nullable = true)\n",
      "\n"
     ]
    }
   ],
   "metadata": {}
  },
  {
   "cell_type": "markdown",
   "source": [
    "## Select DataFrame column"
   ],
   "metadata": {}
  },
  {
   "cell_type": "code",
   "execution_count": 29,
   "source": [
    "df = spark.read.options(header=True).schema(\r\n",
    "    schema=schema).csv(\"data/StudentData.csv\")\r\n",
    "\r\n",
    "df.select(\"name\", \"gender\").show(5)\r\n"
   ],
   "outputs": [
    {
     "output_type": "stream",
     "name": "stdout",
     "text": [
      "+----------------+------+\n",
      "|            name|gender|\n",
      "+----------------+------+\n",
      "| Hubert Oliveras|Female|\n",
      "|Toshiko Hillyard|Female|\n",
      "|  Celeste Lollis|  Male|\n",
      "|    Elenore Choy|Female|\n",
      "|  Sheryll Towler|  Male|\n",
      "+----------------+------+\n",
      "only showing top 5 rows\n",
      "\n"
     ]
    }
   ],
   "metadata": {}
  },
  {
   "cell_type": "code",
   "execution_count": 31,
   "source": [
    "df.select(\"*\").show()\r\n"
   ],
   "outputs": [
    {
     "output_type": "stream",
     "name": "stdout",
     "text": [
      "+---+------+----------------+------+------+-----+--------------------+\n",
      "|age|gender|            name|course|  roll|marks|               email|\n",
      "+---+------+----------------+------+------+-----+--------------------+\n",
      "| 28|Female| Hubert Oliveras|    DB| 02984|   59|Annika Hoffman_Na...|\n",
      "| 29|Female|Toshiko Hillyard| Cloud| 12899|   62|Margene Moores_Ma...|\n",
      "| 28|  Male|  Celeste Lollis|    PF| 21267|   45|Jeannetta Golden_...|\n",
      "| 29|Female|    Elenore Choy|    DB| 32877|   29|Billi Clore_Mitzi...|\n",
      "| 28|  Male|  Sheryll Towler|   DSA| 41487|   41|Claude Panos_Judi...|\n",
      "| 28|  Male|  Margene Moores|   MVC| 52771|   32|Toshiko Hillyard_...|\n",
      "| 28|  Male|     Neda Briski|   OOP| 61973|   69|Alberta Freund_El...|\n",
      "| 28|Female|    Claude Panos| Cloud| 72409|   85|Sheryll Towler_Al...|\n",
      "| 28|  Male|  Celeste Lollis|   MVC| 81492|   64|Nicole Harwood_Cl...|\n",
      "| 29|  Male|  Cordie Harnois|   OOP| 92882|   51|Judie Chipps_Clem...|\n",
      "| 29|Female|       Kena Wild|   DSA|102285|   35|Dustin Feagins_Ma...|\n",
      "| 29|  Male| Ernest Rossbach|    DB|111449|   53|Maybell Duguay_Ab...|\n",
      "| 28|Female|  Latia Vanhoose|    DB|122502|   27|Latia Vanhoose_Mi...|\n",
      "| 29|Female|  Latia Vanhoose|   MVC|132110|   55|Eda Neathery_Nico...|\n",
      "| 29|  Male|     Neda Briski|    PF|141770|   42|Margene Moores_Mi...|\n",
      "| 29|Female|  Latia Vanhoose|    DB|152159|   27|Claude Panos_Sant...|\n",
      "| 29|  Male|  Loris Crossett|   MVC|161771|   36|Mitzi Seldon_Jenn...|\n",
      "| 29|  Male|  Annika Hoffman|   OOP|171660|   22|Taryn Brownlee_Mi...|\n",
      "| 29|  Male|   Santa Kerfien|    PF|182129|   56|Judie Chipps_Tary...|\n",
      "| 28|Female|Mickey Cortright|    DB|192537|   62|Ernest Rossbach_M...|\n",
      "+---+------+----------------+------+------+-----+--------------------+\n",
      "only showing top 20 rows\n",
      "\n"
     ]
    }
   ],
   "metadata": {}
  },
  {
   "cell_type": "markdown",
   "source": [
    "## withColumn"
   ],
   "metadata": {}
  },
  {
   "cell_type": "code",
   "execution_count": 37,
   "source": [
    "from pyspark.sql.functions import col\r\n",
    "df = spark.read.options(header=True).csv(\"data/StudentData.csv\")\r\n",
    "df = df.withColumn(\"roll\", col(\"roll\").cast(\"String\"))\r\n",
    "df.printSchema()\r\n"
   ],
   "outputs": [
    {
     "output_type": "stream",
     "name": "stdout",
     "text": [
      "root\n",
      " |-- age: string (nullable = true)\n",
      " |-- gender: string (nullable = true)\n",
      " |-- name: string (nullable = true)\n",
      " |-- course: string (nullable = true)\n",
      " |-- roll: string (nullable = true)\n",
      " |-- marks: string (nullable = true)\n",
      " |-- email: string (nullable = true)\n",
      "\n"
     ]
    }
   ],
   "metadata": {}
  },
  {
   "cell_type": "code",
   "execution_count": 43,
   "source": [
    "df.withColumn(\"normalized name\", col(\"name\").contains(\"a\")).show()\r\n"
   ],
   "outputs": [
    {
     "output_type": "stream",
     "name": "stdout",
     "text": [
      "+---+------+----------------+------+------+-----+--------------------+---------------+\n",
      "|age|gender|            name|course|  roll|marks|               email|normalized name|\n",
      "+---+------+----------------+------+------+-----+--------------------+---------------+\n",
      "| 28|Female| Hubert Oliveras|    DB| 02984|   59|Annika Hoffman_Na...|           true|\n",
      "| 29|Female|Toshiko Hillyard| Cloud| 12899|   62|Margene Moores_Ma...|           true|\n",
      "| 28|  Male|  Celeste Lollis|    PF| 21267|   45|Jeannetta Golden_...|          false|\n",
      "| 29|Female|    Elenore Choy|    DB| 32877|   29|Billi Clore_Mitzi...|          false|\n",
      "| 28|  Male|  Sheryll Towler|   DSA| 41487|   41|Claude Panos_Judi...|          false|\n",
      "| 28|  Male|  Margene Moores|   MVC| 52771|   32|Toshiko Hillyard_...|           true|\n",
      "| 28|  Male|     Neda Briski|   OOP| 61973|   69|Alberta Freund_El...|           true|\n",
      "| 28|Female|    Claude Panos| Cloud| 72409|   85|Sheryll Towler_Al...|           true|\n",
      "| 28|  Male|  Celeste Lollis|   MVC| 81492|   64|Nicole Harwood_Cl...|          false|\n",
      "| 29|  Male|  Cordie Harnois|   OOP| 92882|   51|Judie Chipps_Clem...|           true|\n",
      "| 29|Female|       Kena Wild|   DSA|102285|   35|Dustin Feagins_Ma...|           true|\n",
      "| 29|  Male| Ernest Rossbach|    DB|111449|   53|Maybell Duguay_Ab...|           true|\n",
      "| 28|Female|  Latia Vanhoose|    DB|122502|   27|Latia Vanhoose_Mi...|           true|\n",
      "| 29|Female|  Latia Vanhoose|   MVC|132110|   55|Eda Neathery_Nico...|           true|\n",
      "| 29|  Male|     Neda Briski|    PF|141770|   42|Margene Moores_Mi...|           true|\n",
      "| 29|Female|  Latia Vanhoose|    DB|152159|   27|Claude Panos_Sant...|           true|\n",
      "| 29|  Male|  Loris Crossett|   MVC|161771|   36|Mitzi Seldon_Jenn...|          false|\n",
      "| 29|  Male|  Annika Hoffman|   OOP|171660|   22|Taryn Brownlee_Mi...|           true|\n",
      "| 29|  Male|   Santa Kerfien|    PF|182129|   56|Judie Chipps_Tary...|           true|\n",
      "| 28|Female|Mickey Cortright|    DB|192537|   62|Ernest Rossbach_M...|          false|\n",
      "+---+------+----------------+------+------+-----+--------------------+---------------+\n",
      "only showing top 20 rows\n",
      "\n"
     ]
    }
   ],
   "metadata": {}
  },
  {
   "cell_type": "code",
   "execution_count": 46,
   "source": [
    "df.withColumnRenamed(\"name\", \"nombre\").show(2)\r\n"
   ],
   "outputs": [
    {
     "output_type": "stream",
     "name": "stdout",
     "text": [
      "+---+------+----------------+------+-----+-----+--------------------+\n",
      "|age|gender|          nombre|course| roll|marks|               email|\n",
      "+---+------+----------------+------+-----+-----+--------------------+\n",
      "| 28|Female| Hubert Oliveras|    DB|02984|   59|Annika Hoffman_Na...|\n",
      "| 29|Female|Toshiko Hillyard| Cloud|12899|   62|Margene Moores_Ma...|\n",
      "+---+------+----------------+------+-----+-----+--------------------+\n",
      "only showing top 2 rows\n",
      "\n"
     ]
    }
   ],
   "metadata": {}
  },
  {
   "cell_type": "code",
   "execution_count": 50,
   "source": [
    "df.select(col(\"name\").alias(\"Nombre completo\")).show()\r\n"
   ],
   "outputs": [
    {
     "output_type": "stream",
     "name": "stdout",
     "text": [
      "+----------------+\n",
      "| Nombre completo|\n",
      "+----------------+\n",
      "| Hubert Oliveras|\n",
      "|Toshiko Hillyard|\n",
      "|  Celeste Lollis|\n",
      "|    Elenore Choy|\n",
      "|  Sheryll Towler|\n",
      "|  Margene Moores|\n",
      "|     Neda Briski|\n",
      "|    Claude Panos|\n",
      "|  Celeste Lollis|\n",
      "|  Cordie Harnois|\n",
      "|       Kena Wild|\n",
      "| Ernest Rossbach|\n",
      "|  Latia Vanhoose|\n",
      "|  Latia Vanhoose|\n",
      "|     Neda Briski|\n",
      "|  Latia Vanhoose|\n",
      "|  Loris Crossett|\n",
      "|  Annika Hoffman|\n",
      "|   Santa Kerfien|\n",
      "|Mickey Cortright|\n",
      "+----------------+\n",
      "only showing top 20 rows\n",
      "\n"
     ]
    }
   ],
   "metadata": {}
  },
  {
   "cell_type": "markdown",
   "source": [
    "# Filter / where"
   ],
   "metadata": {}
  },
  {
   "cell_type": "code",
   "execution_count": 52,
   "source": [
    "df.filter(col(\"course\") == \"DB\").show()\r\n"
   ],
   "outputs": [
    {
     "output_type": "stream",
     "name": "stdout",
     "text": [
      "+---+------+-----------------+------+-------+-----+--------------------+\n",
      "|age|gender|             name|course|   roll|marks|               email|\n",
      "+---+------+-----------------+------+-------+-----+--------------------+\n",
      "| 28|Female|  Hubert Oliveras|    DB|  02984|   59|Annika Hoffman_Na...|\n",
      "| 29|Female|     Elenore Choy|    DB|  32877|   29|Billi Clore_Mitzi...|\n",
      "| 29|  Male|  Ernest Rossbach|    DB| 111449|   53|Maybell Duguay_Ab...|\n",
      "| 28|Female|   Latia Vanhoose|    DB| 122502|   27|Latia Vanhoose_Mi...|\n",
      "| 29|Female|   Latia Vanhoose|    DB| 152159|   27|Claude Panos_Sant...|\n",
      "| 28|Female| Mickey Cortright|    DB| 192537|   62|Ernest Rossbach_M...|\n",
      "| 28|Female|      Anna Santos|    DB| 311589|   79|Celeste Lollis_Mi...|\n",
      "| 28|  Male|    Kizzy Brenner|    DB| 381712|   36|Paris Hutton_Kena...|\n",
      "| 28|  Male| Toshiko Hillyard|    DB| 392218|   47|Leontine Phillips...|\n",
      "| 29|  Male|     Paris Hutton|    DB| 481229|   57|Clementina Menke_...|\n",
      "| 28|Female| Mickey Cortright|    DB| 551389|   43|Tijuana Kropf_Jen...|\n",
      "| 28|Female|Leontine Phillips|    DB| 602404|   48|Neda Briski_Cheri...|\n",
      "| 28|Female|  Hubert Oliveras|    DB| 771081|   79|Kizzy Brenner_Dus...|\n",
      "| 29|Female|     Elenore Choy|    DB| 811824|   55|Maybell Duguay_Me...|\n",
      "| 29|  Male| Clementina Menke|    DB| 882200|   76|Michelle Ruggiero...|\n",
      "| 29|Female|  Sebrina Maresca|    DB| 922210|   54|Toshiko Hillyard_...|\n",
      "| 29|  Male|     Naoma Fritts|    DB| 931295|   79|Hubert Oliveras_S...|\n",
      "| 28|  Male|   Annika Hoffman|    DB|1031544|   44|Dustin Feagins_So...|\n",
      "| 28|  Male|   Nicole Harwood|    DB|1211495|   28|Melani Engberg_Jc...|\n",
      "| 29|Female|     Claude Panos|    DB|1222887|   75|Hubert Oliveras_S...|\n",
      "+---+------+-----------------+------+-------+-----+--------------------+\n",
      "only showing top 20 rows\n",
      "\n"
     ]
    }
   ],
   "metadata": {}
  },
  {
   "cell_type": "markdown",
   "source": [
    "# Otras herramientas"
   ],
   "metadata": {}
  },
  {
   "cell_type": "markdown",
   "source": [
    "## groupBy"
   ],
   "metadata": {}
  },
  {
   "cell_type": "code",
   "execution_count": 57,
   "source": [
    "df.groupBy(\"age\").count().show()\r\n"
   ],
   "outputs": [
    {
     "output_type": "stream",
     "name": "stdout",
     "text": [
      "+---+-----+\n",
      "|age|count|\n",
      "+---+-----+\n",
      "| 29|  506|\n",
      "| 28|  494|\n",
      "+---+-----+\n",
      "\n"
     ]
    }
   ],
   "metadata": {}
  },
  {
   "cell_type": "markdown",
   "source": [
    "# distinct, sum, average, etc."
   ],
   "metadata": {}
  },
  {
   "cell_type": "code",
   "execution_count": 58,
   "source": [
    "df.select(\"course\").distinct().show()\r\n"
   ],
   "outputs": [
    {
     "output_type": "stream",
     "name": "stdout",
     "text": [
      "+------+\n",
      "|course|\n",
      "+------+\n",
      "|    PF|\n",
      "|    DB|\n",
      "|   MVC|\n",
      "|   DSA|\n",
      "| Cloud|\n",
      "|   OOP|\n",
      "+------+\n",
      "\n"
     ]
    }
   ],
   "metadata": {}
  },
  {
   "cell_type": "code",
   "execution_count": 60,
   "source": [
    "df.groupBy(\"course\", \"gender\").count().orderBy(\"course\").show()\r\n"
   ],
   "outputs": [
    {
     "output_type": "stream",
     "name": "stdout",
     "text": [
      "+------+------+-----+\n",
      "|course|gender|count|\n",
      "+------+------+-----+\n",
      "| Cloud|Female|  106|\n",
      "| Cloud|  Male|   86|\n",
      "|    DB|  Male|   82|\n",
      "|    DB|Female|   75|\n",
      "|   DSA|Female|   98|\n",
      "|   DSA|  Male|   78|\n",
      "|   MVC|  Male|   86|\n",
      "|   MVC|Female|   71|\n",
      "|   OOP|Female|   82|\n",
      "|   OOP|  Male|   70|\n",
      "|    PF|  Male|   97|\n",
      "|    PF|Female|   69|\n",
      "+------+------+-----+\n",
      "\n"
     ]
    }
   ],
   "metadata": {}
  },
  {
   "cell_type": "code",
   "execution_count": 61,
   "source": [
    "from pyspark.sql.functions import count, avg, min, mean, sum\r\n"
   ],
   "outputs": [],
   "metadata": {}
  },
  {
   "cell_type": "code",
   "execution_count": 72,
   "source": [
    "df.groupBy(\"course\", \"gender\").agg(count(\"*\"), sum(\"marks\"),\r\n",
    "                                   avg(col(\"marks\")).alias(\"average\")).orderBy(\"course\").show()\r\n"
   ],
   "outputs": [
    {
     "output_type": "stream",
     "name": "stdout",
     "text": [
      "+------+------+--------+----------+------------------+\n",
      "|course|gender|count(1)|sum(marks)|           average|\n",
      "+------+------+--------+----------+------------------+\n",
      "| Cloud|  Male|      86|    5127.0|59.616279069767444|\n",
      "| Cloud|Female|     106|    6316.0| 59.58490566037736|\n",
      "|    DB|  Male|      82|    5073.0| 61.86585365853659|\n",
      "|    DB|Female|      75|    4197.0|             55.96|\n",
      "|   DSA|Female|      98|    6124.0| 62.48979591836735|\n",
      "|   DSA|  Male|      78|    4826.0| 61.87179487179487|\n",
      "|   MVC|  Male|      86|    5241.0| 60.94186046511628|\n",
      "|   MVC|Female|      71|    4344.0|61.183098591549296|\n",
      "|   OOP|Female|      82|    4682.0| 57.09756097560975|\n",
      "|   OOP|  Male|      70|    4234.0| 60.48571428571429|\n",
      "|    PF|Female|      69|    3973.0| 57.57971014492754|\n",
      "|    PF|  Male|      97|    5960.0| 61.44329896907217|\n",
      "+------+------+--------+----------+------------------+\n",
      "\n"
     ]
    }
   ],
   "metadata": {}
  },
  {
   "cell_type": "markdown",
   "source": [
    "## groupBy and Filtering"
   ],
   "metadata": {}
  },
  {
   "cell_type": "code",
   "execution_count": 74,
   "source": [
    "df.filter(df.gender == \"Male\").groupBy(\"course\").count().show()\r\n"
   ],
   "outputs": [
    {
     "output_type": "stream",
     "name": "stdout",
     "text": [
      "+------+-----+\n",
      "|course|count|\n",
      "+------+-----+\n",
      "|    PF|   97|\n",
      "|    DB|   82|\n",
      "|   MVC|   86|\n",
      "|   DSA|   78|\n",
      "| Cloud|   86|\n",
      "|   OOP|   70|\n",
      "+------+-----+\n",
      "\n"
     ]
    }
   ],
   "metadata": {}
  },
  {
   "cell_type": "code",
   "execution_count": 75,
   "source": [
    "df.createOrReplaceTempView(\"Student\")"
   ],
   "outputs": [],
   "metadata": {}
  },
  {
   "cell_type": "code",
   "execution_count": 78,
   "source": [
    "spark.sql(\"select * from Student\").show()"
   ],
   "outputs": [
    {
     "output_type": "stream",
     "name": "stdout",
     "text": [
      "+---+------+----------------+------+------+-----+--------------------+\n",
      "|age|gender|            name|course|  roll|marks|               email|\n",
      "+---+------+----------------+------+------+-----+--------------------+\n",
      "| 28|Female| Hubert Oliveras|    DB| 02984|   59|Annika Hoffman_Na...|\n",
      "| 29|Female|Toshiko Hillyard| Cloud| 12899|   62|Margene Moores_Ma...|\n",
      "| 28|  Male|  Celeste Lollis|    PF| 21267|   45|Jeannetta Golden_...|\n",
      "| 29|Female|    Elenore Choy|    DB| 32877|   29|Billi Clore_Mitzi...|\n",
      "| 28|  Male|  Sheryll Towler|   DSA| 41487|   41|Claude Panos_Judi...|\n",
      "| 28|  Male|  Margene Moores|   MVC| 52771|   32|Toshiko Hillyard_...|\n",
      "| 28|  Male|     Neda Briski|   OOP| 61973|   69|Alberta Freund_El...|\n",
      "| 28|Female|    Claude Panos| Cloud| 72409|   85|Sheryll Towler_Al...|\n",
      "| 28|  Male|  Celeste Lollis|   MVC| 81492|   64|Nicole Harwood_Cl...|\n",
      "| 29|  Male|  Cordie Harnois|   OOP| 92882|   51|Judie Chipps_Clem...|\n",
      "| 29|Female|       Kena Wild|   DSA|102285|   35|Dustin Feagins_Ma...|\n",
      "| 29|  Male| Ernest Rossbach|    DB|111449|   53|Maybell Duguay_Ab...|\n",
      "| 28|Female|  Latia Vanhoose|    DB|122502|   27|Latia Vanhoose_Mi...|\n",
      "| 29|Female|  Latia Vanhoose|   MVC|132110|   55|Eda Neathery_Nico...|\n",
      "| 29|  Male|     Neda Briski|    PF|141770|   42|Margene Moores_Mi...|\n",
      "| 29|Female|  Latia Vanhoose|    DB|152159|   27|Claude Panos_Sant...|\n",
      "| 29|  Male|  Loris Crossett|   MVC|161771|   36|Mitzi Seldon_Jenn...|\n",
      "| 29|  Male|  Annika Hoffman|   OOP|171660|   22|Taryn Brownlee_Mi...|\n",
      "| 29|  Male|   Santa Kerfien|    PF|182129|   56|Judie Chipps_Tary...|\n",
      "| 28|Female|Mickey Cortright|    DB|192537|   62|Ernest Rossbach_M...|\n",
      "+---+------+----------------+------+------+-----+--------------------+\n",
      "only showing top 20 rows\n",
      "\n"
     ]
    }
   ],
   "metadata": {}
  },
  {
   "cell_type": "code",
   "execution_count": null,
   "source": [],
   "outputs": [],
   "metadata": {}
  }
 ],
 "metadata": {
  "kernelspec": {
   "name": "pycharm-427c8894",
   "language": "python",
   "display_name": "PyCharm (python-pyspark)"
  },
  "language_info": {
   "codemirror_mode": {
    "name": "ipython",
    "version": 3
   },
   "file_extension": ".py",
   "mimetype": "text/x-python",
   "name": "python",
   "nbconvert_exporter": "python",
   "pygments_lexer": "ipython3",
   "version": "3.8.6"
  }
 },
 "nbformat": 4,
 "nbformat_minor": 5
}